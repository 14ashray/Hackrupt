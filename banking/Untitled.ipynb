{
 "cells": [
  {
   "cell_type": "code",
   "execution_count": 13,
   "metadata": {},
   "outputs": [],
   "source": [
    "import numpy as np\n",
    "import matplotlib.pyplot as plt\n",
    "import pandas as pd\n",
    "% matplotlib inline"
   ]
  },
  {
   "cell_type": "code",
   "execution_count": 14,
   "metadata": {},
   "outputs": [
    {
     "name": "stderr",
     "output_type": "stream",
     "text": [
      "Using TensorFlow backend.\n"
     ]
    }
   ],
   "source": [
    "from keras.models import Sequential\n",
    "from keras.layers import Dense, LSTM, Dropout"
   ]
  },
  {
   "cell_type": "code",
   "execution_count": 15,
   "metadata": {},
   "outputs": [],
   "source": [
    "from sklearn.preprocessing import MinMaxScaler"
   ]
  },
  {
   "cell_type": "code",
   "execution_count": 30,
   "metadata": {},
   "outputs": [],
   "source": [
    "training_set = pd.read_csv('GS.csv')\n",
    "training_set = training_set.iloc[:, 1:2].values"
   ]
  },
  {
   "cell_type": "code",
   "execution_count": 31,
   "metadata": {},
   "outputs": [
    {
     "data": {
      "text/plain": [
       "array([[ 255.87],\n",
       "       [ 256.98],\n",
       "       [ 257.98],\n",
       "       ..., \n",
       "       [  80.88],\n",
       "       [  87.  ],\n",
       "       [  94.19]])"
      ]
     },
     "execution_count": 31,
     "metadata": {},
     "output_type": "execute_result"
    }
   ],
   "source": [
    "training_set"
   ]
  },
  {
   "cell_type": "code",
   "execution_count": 17,
   "metadata": {},
   "outputs": [],
   "source": [
    "sc = MinMaxScaler()\n",
    "training_set_scaled = sc.fit_transform(training_set)"
   ]
  },
  {
   "cell_type": "code",
   "execution_count": 18,
   "metadata": {},
   "outputs": [],
   "source": [
    "s=training_set_scaled.shape"
   ]
  },
  {
   "cell_type": "code",
   "execution_count": 19,
   "metadata": {},
   "outputs": [],
   "source": [
    "X_train = training_set_scaled[0:s[0]-1]\n",
    "Y_train = training_set_scaled[1:s[0]]"
   ]
  },
  {
   "cell_type": "code",
   "execution_count": 20,
   "metadata": {},
   "outputs": [],
   "source": [
    "X_train = np.reshape(X_train,(s[0]-1, 1, 1))"
   ]
  },
  {
   "cell_type": "code",
   "execution_count": 37,
   "metadata": {},
   "outputs": [],
   "source": [
    "regressor = Sequential()\n",
    "regressor.add(LSTM(units = 50, activation='relu', return_sequences = True, input_shape = (X_train.shape[1], 1)))\n",
    "regressor.add(Dropout(0.2))\n",
    "\n",
    "regressor.add(LSTM(units = 50, return_sequences = True))\n",
    "regressor.add(Dropout(0.2))\n",
    "\n",
    "regressor.add(LSTM(units = 50))\n",
    "regressor.add(Dropout(0.2))\n",
    "\n",
    "regressor.add(Dense(units = 1, activation='sigmoid'))"
   ]
  },
  {
   "cell_type": "code",
   "execution_count": 38,
   "metadata": {},
   "outputs": [],
   "source": [
    "regressor.compile(optimizer = 'adam', loss = 'mae',metrics=['accuracy'])"
   ]
  },
  {
   "cell_type": "code",
   "execution_count": 39,
   "metadata": {},
   "outputs": [
    {
     "name": "stdout",
     "output_type": "stream",
     "text": [
      "Epoch 1/100\n",
      "4527/4527 [==============================] - 4s 891us/step - loss: 0.1600 - acc: 4.4179e-04\n",
      "Epoch 2/100\n",
      "4527/4527 [==============================] - 1s 180us/step - loss: 0.0368 - acc: 4.4179e-04\n",
      "Epoch 3/100\n",
      "4527/4527 [==============================] - 1s 182us/step - loss: 0.0362 - acc: 4.4179e-04\n",
      "Epoch 4/100\n",
      "4527/4527 [==============================] - 1s 182us/step - loss: 0.0354 - acc: 4.4179e-04\n",
      "Epoch 5/100\n",
      "4527/4527 [==============================] - 1s 184us/step - loss: 0.0360 - acc: 4.4179e-04\n",
      "Epoch 6/100\n",
      "4527/4527 [==============================] - 1s 183us/step - loss: 0.0349 - acc: 4.4179e-04\n",
      "Epoch 7/100\n",
      "4527/4527 [==============================] - 1s 182us/step - loss: 0.0346 - acc: 4.4179e-04\n",
      "Epoch 8/100\n",
      "4527/4527 [==============================] - 1s 183us/step - loss: 0.0346 - acc: 4.4179e-04\n",
      "Epoch 9/100\n",
      "4527/4527 [==============================] - 1s 185us/step - loss: 0.0336 - acc: 4.4179e-04\n",
      "Epoch 10/100\n",
      "4527/4527 [==============================] - 1s 187us/step - loss: 0.0343 - acc: 4.4179e-04\n",
      "Epoch 11/100\n",
      "4527/4527 [==============================] - 1s 223us/step - loss: 0.0332 - acc: 4.4179e-04\n",
      "Epoch 12/100\n",
      "4527/4527 [==============================] - 1s 214us/step - loss: 0.0333 - acc: 4.4179e-04\n",
      "Epoch 13/100\n",
      "4527/4527 [==============================] - 1s 186us/step - loss: 0.0322 - acc: 4.4179e-04\n",
      "Epoch 14/100\n",
      "4527/4527 [==============================] - 1s 187us/step - loss: 0.0315 - acc: 4.4179e-04\n",
      "Epoch 15/100\n",
      "4527/4527 [==============================] - 1s 188us/step - loss: 0.0308 - acc: 4.4179e-04\n",
      "Epoch 16/100\n",
      "4527/4527 [==============================] - 1s 232us/step - loss: 0.0309 - acc: 4.4179e-04\n",
      "Epoch 17/100\n",
      "4527/4527 [==============================] - 1s 219us/step - loss: 0.0304 - acc: 4.4179e-04\n",
      "Epoch 18/100\n",
      "4527/4527 [==============================] - 1s 187us/step - loss: 0.0290 - acc: 4.4179e-04\n",
      "Epoch 19/100\n",
      "4527/4527 [==============================] - 1s 188us/step - loss: 0.0289 - acc: 4.4179e-04\n",
      "Epoch 20/100\n",
      "4527/4527 [==============================] - 1s 187us/step - loss: 0.0282 - acc: 4.4179e-04\n",
      "Epoch 21/100\n",
      "4527/4527 [==============================] - 1s 187us/step - loss: 0.0278 - acc: 4.4179e-04\n",
      "Epoch 22/100\n",
      "4527/4527 [==============================] - 1s 191us/step - loss: 0.0291 - acc: 4.4179e-04\n",
      "Epoch 23/100\n",
      "4527/4527 [==============================] - 1s 185us/step - loss: 0.0283 - acc: 4.4179e-04\n",
      "Epoch 24/100\n",
      "4527/4527 [==============================] - 1s 189us/step - loss: 0.0276 - acc: 4.4179e-04\n",
      "Epoch 25/100\n",
      "4527/4527 [==============================] - 1s 189us/step - loss: 0.0278 - acc: 4.4179e-04\n",
      "Epoch 26/100\n",
      "4527/4527 [==============================] - 1s 192us/step - loss: 0.0275 - acc: 4.4179e-04\n",
      "Epoch 27/100\n",
      "4527/4527 [==============================] - 1s 192us/step - loss: 0.0275 - acc: 4.4179e-04\n",
      "Epoch 28/100\n",
      "4527/4527 [==============================] - 1s 187us/step - loss: 0.0273 - acc: 4.4179e-04\n",
      "Epoch 29/100\n",
      "4527/4527 [==============================] - 1s 189us/step - loss: 0.0271 - acc: 4.4179e-04\n",
      "Epoch 30/100\n",
      "4527/4527 [==============================] - 1s 187us/step - loss: 0.0268 - acc: 4.4179e-04\n",
      "Epoch 31/100\n",
      "4527/4527 [==============================] - 1s 190us/step - loss: 0.0272 - acc: 4.4179e-04\n",
      "Epoch 32/100\n",
      "4527/4527 [==============================] - 1s 191us/step - loss: 0.0272 - acc: 4.4179e-04\n",
      "Epoch 33/100\n",
      "4527/4527 [==============================] - 1s 195us/step - loss: 0.0275 - acc: 4.4179e-04\n",
      "Epoch 34/100\n",
      "4527/4527 [==============================] - 1s 189us/step - loss: 0.0274 - acc: 4.4179e-04\n",
      "Epoch 35/100\n",
      "4527/4527 [==============================] - 1s 192us/step - loss: 0.0265 - acc: 4.4179e-04\n",
      "Epoch 36/100\n",
      "4527/4527 [==============================] - 1s 192us/step - loss: 0.0265 - acc: 4.4179e-04\n",
      "Epoch 37/100\n",
      "4527/4527 [==============================] - 1s 189us/step - loss: 0.0267 - acc: 4.4179e-04\n",
      "Epoch 38/100\n",
      "4527/4527 [==============================] - 1s 192us/step - loss: 0.0274 - acc: 4.4179e-04\n",
      "Epoch 39/100\n",
      "4527/4527 [==============================] - 1s 191us/step - loss: 0.0265 - acc: 4.4179e-04\n",
      "Epoch 40/100\n",
      "4527/4527 [==============================] - 1s 191us/step - loss: 0.0262 - acc: 4.4179e-04\n",
      "Epoch 41/100\n",
      "4527/4527 [==============================] - 1s 194us/step - loss: 0.0261 - acc: 4.4179e-04\n",
      "Epoch 42/100\n",
      "4527/4527 [==============================] - 1s 193us/step - loss: 0.0255 - acc: 4.4179e-04\n",
      "Epoch 43/100\n",
      "4527/4527 [==============================] - 1s 192us/step - loss: 0.0250 - acc: 4.4179e-04\n",
      "Epoch 44/100\n",
      "4527/4527 [==============================] - 1s 195us/step - loss: 0.0255 - acc: 4.4179e-04\n",
      "Epoch 45/100\n",
      "4527/4527 [==============================] - 1s 190us/step - loss: 0.0258 - acc: 4.4179e-04\n",
      "Epoch 46/100\n",
      "4527/4527 [==============================] - 1s 197us/step - loss: 0.0251 - acc: 4.4179e-04\n",
      "Epoch 47/100\n",
      "4527/4527 [==============================] - 1s 196us/step - loss: 0.0252 - acc: 4.4179e-04\n",
      "Epoch 48/100\n",
      "4527/4527 [==============================] - 1s 197us/step - loss: 0.0249 - acc: 4.4179e-04\n",
      "Epoch 49/100\n",
      "4527/4527 [==============================] - 1s 195us/step - loss: 0.0242 - acc: 4.4179e-04\n",
      "Epoch 50/100\n",
      "4527/4527 [==============================] - 1s 313us/step - loss: 0.0242 - acc: 4.4179e-04\n",
      "Epoch 51/100\n",
      "4527/4527 [==============================] - 1s 264us/step - loss: 0.0238 - acc: 4.4179e-04\n",
      "Epoch 52/100\n",
      "4527/4527 [==============================] - 1s 198us/step - loss: 0.0240 - acc: 4.4179e-04\n",
      "Epoch 53/100\n",
      "4527/4527 [==============================] - 1s 206us/step - loss: 0.0235 - acc: 4.4179e-04\n",
      "Epoch 54/100\n",
      "4527/4527 [==============================] - 1s 214us/step - loss: 0.0239 - acc: 4.4179e-04\n",
      "Epoch 55/100\n",
      "4527/4527 [==============================] - 1s 206us/step - loss: 0.0237 - acc: 4.4179e-04\n",
      "Epoch 56/100\n",
      "4527/4527 [==============================] - 1s 220us/step - loss: 0.0237 - acc: 4.4179e-04\n",
      "Epoch 57/100\n",
      "4527/4527 [==============================] - 1s 221us/step - loss: 0.0233 - acc: 4.4179e-04\n",
      "Epoch 58/100\n",
      "4527/4527 [==============================] - 1s 280us/step - loss: 0.0232 - acc: 4.4179e-04\n",
      "Epoch 59/100\n",
      "4527/4527 [==============================] - 1s 223us/step - loss: 0.0231 - acc: 4.4179e-04\n",
      "Epoch 60/100\n",
      "4527/4527 [==============================] - 1s 212us/step - loss: 0.0230 - acc: 4.4179e-04\n",
      "Epoch 61/100\n",
      "4527/4527 [==============================] - 1s 207us/step - loss: 0.0237 - acc: 4.4179e-04\n",
      "Epoch 62/100\n",
      "4527/4527 [==============================] - 1s 217us/step - loss: 0.0233 - acc: 4.4179e-04\n",
      "Epoch 63/100\n",
      "4527/4527 [==============================] - 1s 273us/step - loss: 0.0226 - acc: 4.4179e-04\n",
      "Epoch 64/100\n",
      "4527/4527 [==============================] - 1s 198us/step - loss: 0.0227 - acc: 4.4179e-04\n",
      "Epoch 65/100\n",
      "4527/4527 [==============================] - 1s 199us/step - loss: 0.0222 - acc: 4.4179e-04\n",
      "Epoch 66/100\n",
      "4527/4527 [==============================] - 1s 198us/step - loss: 0.0226 - acc: 4.4179e-04\n",
      "Epoch 67/100\n",
      "4527/4527 [==============================] - 1s 198us/step - loss: 0.0221 - acc: 4.4179e-04\n",
      "Epoch 68/100\n",
      "4527/4527 [==============================] - 1s 200us/step - loss: 0.0223 - acc: 4.4179e-04\n",
      "Epoch 69/100\n",
      "4527/4527 [==============================] - 1s 203us/step - loss: 0.0223 - acc: 4.4179e-04\n",
      "Epoch 70/100\n",
      "4527/4527 [==============================] - 1s 199us/step - loss: 0.0226 - acc: 4.4179e-04\n",
      "Epoch 71/100\n",
      "4527/4527 [==============================] - 1s 202us/step - loss: 0.0220 - acc: 4.4179e-04\n",
      "Epoch 72/100\n",
      "4527/4527 [==============================] - 1s 199us/step - loss: 0.0223 - acc: 4.4179e-04\n",
      "Epoch 73/100\n",
      "4527/4527 [==============================] - 1s 198us/step - loss: 0.0225 - acc: 4.4179e-04\n",
      "Epoch 74/100\n",
      "4527/4527 [==============================] - 1s 202us/step - loss: 0.0221 - acc: 4.4179e-04\n",
      "Epoch 75/100\n",
      "4527/4527 [==============================] - 1s 207us/step - loss: 0.0220 - acc: 4.4179e-04\n",
      "Epoch 76/100\n",
      "4527/4527 [==============================] - 1s 205us/step - loss: 0.0225 - acc: 4.4179e-04\n",
      "Epoch 77/100\n",
      "4527/4527 [==============================] - 1s 205us/step - loss: 0.0222 - acc: 4.4179e-04\n",
      "Epoch 78/100\n",
      "4527/4527 [==============================] - 1s 204us/step - loss: 0.0214 - acc: 4.4179e-04\n",
      "Epoch 79/100\n"
     ]
    },
    {
     "name": "stdout",
     "output_type": "stream",
     "text": [
      "4527/4527 [==============================] - 1s 178us/step - loss: 0.0219 - acc: 4.4179e-04\n",
      "Epoch 80/100\n",
      "4527/4527 [==============================] - 1s 177us/step - loss: 0.0222 - acc: 4.4179e-04\n",
      "Epoch 81/100\n",
      "4527/4527 [==============================] - 1s 174us/step - loss: 0.0221 - acc: 4.4179e-04\n",
      "Epoch 82/100\n",
      "4527/4527 [==============================] - 1s 177us/step - loss: 0.0218 - acc: 4.4179e-04\n",
      "Epoch 83/100\n",
      "4527/4527 [==============================] - 1s 173us/step - loss: 0.0218 - acc: 4.4179e-04\n",
      "Epoch 84/100\n",
      "4527/4527 [==============================] - 1s 180us/step - loss: 0.0216 - acc: 4.4179e-04\n",
      "Epoch 85/100\n",
      "4527/4527 [==============================] - 1s 177us/step - loss: 0.0219 - acc: 4.4179e-04\n",
      "Epoch 86/100\n",
      "4527/4527 [==============================] - 1s 179us/step - loss: 0.0216 - acc: 4.4179e-04\n",
      "Epoch 87/100\n",
      "4527/4527 [==============================] - 1s 177us/step - loss: 0.0217 - acc: 4.4179e-04\n",
      "Epoch 88/100\n",
      "4527/4527 [==============================] - 1s 180us/step - loss: 0.0213 - acc: 4.4179e-04\n",
      "Epoch 89/100\n",
      "4527/4527 [==============================] - 1s 177us/step - loss: 0.0220 - acc: 4.4179e-04\n",
      "Epoch 90/100\n",
      "4527/4527 [==============================] - 1s 179us/step - loss: 0.0216 - acc: 4.4179e-04\n",
      "Epoch 91/100\n",
      "4527/4527 [==============================] - 1s 178us/step - loss: 0.0215 - acc: 4.4179e-04\n",
      "Epoch 92/100\n",
      "4527/4527 [==============================] - 1s 181us/step - loss: 0.0212 - acc: 4.4179e-04\n",
      "Epoch 93/100\n",
      "4527/4527 [==============================] - 1s 179us/step - loss: 0.0214 - acc: 4.4179e-04\n",
      "Epoch 94/100\n",
      "4527/4527 [==============================] - 1s 180us/step - loss: 0.0210 - acc: 4.4179e-04\n",
      "Epoch 95/100\n",
      "4527/4527 [==============================] - 1s 181us/step - loss: 0.0214 - acc: 4.4179e-04\n",
      "Epoch 96/100\n",
      "4527/4527 [==============================] - 1s 181us/step - loss: 0.0209 - acc: 4.4179e-04\n",
      "Epoch 97/100\n",
      "4527/4527 [==============================] - 1s 180us/step - loss: 0.0209 - acc: 4.4179e-04\n",
      "Epoch 98/100\n",
      "4527/4527 [==============================] - 1s 181us/step - loss: 0.0212 - acc: 4.4179e-04\n",
      "Epoch 99/100\n",
      "4527/4527 [==============================] - 1s 184us/step - loss: 0.0214 - acc: 4.4179e-04\n",
      "Epoch 100/100\n",
      "4527/4527 [==============================] - 1s 182us/step - loss: 0.0210 - acc: 4.4179e-04\n"
     ]
    },
    {
     "data": {
      "text/plain": [
       "<keras.callbacks.History at 0x7f187c8659d0>"
      ]
     },
     "execution_count": 39,
     "metadata": {},
     "output_type": "execute_result"
    }
   ],
   "source": [
    "regressor.fit(X_train, Y_train, epochs = 100, batch_size = 32)"
   ]
  },
  {
   "cell_type": "code",
   "execution_count": null,
   "metadata": {},
   "outputs": [],
   "source": [
    "df = pd.read_csv('GS.csv')"
   ]
  },
  {
   "cell_type": "code",
   "execution_count": null,
   "metadata": {},
   "outputs": [],
   "source": []
  },
  {
   "cell_type": "code",
   "execution_count": null,
   "metadata": {},
   "outputs": [],
   "source": [
    "test_set = sc.fit_transform(df.iloc[:, 1:2])\n",
    "p = test_set.shape"
   ]
  },
  {
   "cell_type": "code",
   "execution_count": null,
   "metadata": {},
   "outputs": [],
   "source": [
    "test_set = np.reshape(test_set, (p[0], 1, 1))"
   ]
  },
  {
   "cell_type": "code",
   "execution_count": null,
   "metadata": {},
   "outputs": [],
   "source": []
  }
 ],
 "metadata": {
  "kernelspec": {
   "display_name": "Python 2",
   "language": "python",
   "name": "python2"
  },
  "language_info": {
   "codemirror_mode": {
    "name": "ipython",
    "version": 2
   },
   "file_extension": ".py",
   "mimetype": "text/x-python",
   "name": "python",
   "nbconvert_exporter": "python",
   "pygments_lexer": "ipython2",
   "version": "2.7.12"
  }
 },
 "nbformat": 4,
 "nbformat_minor": 2
}
